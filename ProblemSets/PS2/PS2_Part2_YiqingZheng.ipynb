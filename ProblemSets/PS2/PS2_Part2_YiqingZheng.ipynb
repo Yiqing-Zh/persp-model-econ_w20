{
 "cells": [
  {
   "cell_type": "markdown",
   "metadata": {},
   "source": [
    "# Problem set #2 -- Yiqing Zheng"
   ]
  },
  {
   "cell_type": "markdown",
   "metadata": {},
   "source": [
    "## Integration"
   ]
  },
  {
   "cell_type": "markdown",
   "metadata": {},
   "source": [
    "## ex2.1"
   ]
  },
  {
   "cell_type": "code",
   "execution_count": 2,
   "metadata": {},
   "outputs": [],
   "source": [
    "import numpy as np\n",
    "import matplotlib.pyplot as plt"
   ]
  },
  {
   "cell_type": "code",
   "execution_count": 4,
   "metadata": {},
   "outputs": [],
   "source": [
    "def g(x):\n",
    "    return 0.1*x**4 - 1.5*x**3 + 0.53*x**2 + 2*x + 1"
   ]
  },
  {
   "cell_type": "code",
   "execution_count": 98,
   "metadata": {},
   "outputs": [],
   "source": [
    "def func_1(g, a, b, N, method):\n",
    "    if method == \"midpoint\":\n",
    "        g_sum = 0\n",
    "        for i in range(N):\n",
    "            x = a + (2*i+1) * (b-a)/(2*N)\n",
    "            g_sum += g(x)\n",
    "        result = (b-a)/N*g_sum\n",
    "    \n",
    "    if method == \"trapezoid\":\n",
    "        g_sum = 0\n",
    "        for i in range(N):\n",
    "            x = a + i*(b-a)/N\n",
    "            g_sum += g(x)\n",
    "        result = (g(a) + 2*g_sum + g(b))*(b-a)/(2*N)\n",
    "    \n",
    "    if method == \"Simpsons\":\n",
    "        g_sum_1 = 0\n",
    "        g_sum_2 = 0\n",
    "        for i in range(2*N):\n",
    "            x = a + i*(b-a)/(2*N)\n",
    "            if i%2 !=0:\n",
    "                g_sum_1 += g(x)\n",
    "            else:\n",
    "                g_sum_2 += g(x)\n",
    "        result = (g(a) + 4*g_sum_1 + 2*g_sum_2 + g(b))*(b-a)/(6*N)\n",
    "    \n",
    "    return result"
   ]
  },
  {
   "cell_type": "code",
   "execution_count": 21,
   "metadata": {},
   "outputs": [],
   "source": [
    "Nvec = np.arange(20, 201, 1)\n",
    "method1 = []\n",
    "method2 = []\n",
    "method3 = []\n",
    "for N in Nvec:\n",
    "    method1.append(abs(func_1(g, -10, 10, N, 'midpoint') - 4373.33))\n",
    "    method2.append(abs(func_1(g, -10, 10, N, 'trapezoid') - 4373.33))\n",
    "    method3.append(abs(func_1(g, -10, 10, N, 'Simpsons') - 4373.33))"
   ]
  },
  {
   "cell_type": "code",
   "execution_count": 24,
   "metadata": {},
   "outputs": [
    {
     "data": {
      "image/png": "[encoded data removed]",
      "text/plain": [
       "<Figure size 432x288 with 1 Axes>"
      ]
     },
     "metadata": {
      "needs_background": "light"
     },
     "output_type": "display_data"
    }
   ],
   "source": [
    "plt.plot(Nvec, np.array(method1),label = \"midpoint\")\n",
    "plt.plot(Nvec, np.array(method2),label = \"trapezoid\")\n",
    "plt.plot(Nvec, np.array(method3),label = \"Simpsons\")\n",
    "plt.legend()\n",
    "plt.xlabel('number of nodes')\n",
    "plt.ylabel('error');"
   ]
  },
  {
   "cell_type": "markdown",
   "metadata": {},
   "source": [
    "We can learn from above that the midpoint method approximates the true value best and fastest as the number of nodes increases."
   ]
  },
  {
   "cell_type": "code",
   "execution_count": 25,
   "metadata": {},
   "outputs": [],
   "source": [
    "x_axis = np.linspace(-10, 10, 200)"
   ]
  },
  {
   "cell_type": "code",
   "execution_count": 162,
   "metadata": {},
   "outputs": [
    {
     "data": {
      "image/png": "[encoded data removed]",
      "text/plain": [
       "<Figure size 432x288 with 1 Axes>"
      ]
     },
     "metadata": {
      "needs_background": "light"
     },
     "output_type": "display_data"
    }
   ],
   "source": [
    "# The graph of original function\n",
    "plt.plot(x_axis, g(x_axis));"
   ]
  },
  {
   "cell_type": "markdown",
   "metadata": {},
   "source": [
    "We can see that the shape of original function is much like the nodes-error graph. The reason is that as the slope of the original function become flatter, approximation functions are closer to the true value and behave better."
   ]
  },
  {
   "cell_type": "markdown",
   "metadata": {},
   "source": [
    "## ex2.2"
   ]
  },
  {
   "cell_type": "code",
   "execution_count": 28,
   "metadata": {},
   "outputs": [],
   "source": [
    "from scipy.stats import norm"
   ]
  },
  {
   "cell_type": "code",
   "execution_count": 31,
   "metadata": {},
   "outputs": [],
   "source": [
    "def normal(mean, sd, N, k):\n",
    "    a = mean - k*sd\n",
    "    b = mean + k*sd\n",
    "    nodes = []\n",
    "    weights = []\n",
    "    for i in range(N):\n",
    "        i += 1\n",
    "        if i == 1:\n",
    "            x1 = a\n",
    "            x2 = a + 2*k*sd/(N-1)\n",
    "            weight = norm.cdf((x1+x2)/2, loc = mean, scale = sd)\n",
    "            nodes.append(x1)\n",
    "            weights.append(weight)\n",
    "\n",
    "        elif i == N:\n",
    "            x1 = b - 2*k*sd/(N-1)\n",
    "            x2 = b\n",
    "            weight = 1 - norm.cdf((x1+x2)/2, loc = mean, scale = sd)\n",
    "            nodes.append(x2)\n",
    "            weights.append(weight)\n",
    "         \n",
    "        else:\n",
    "            xi = a + (i-1)*2*k*sd/(N-1)\n",
    "            x1 = a + (i-2)*2*k*sd/(N-1)\n",
    "            x2 = a + i*2*k*sd/(N-1)\n",
    "            zmax = (x2+xi)/2\n",
    "            zmin = (x1+xi)/2\n",
    "            weight = norm.cdf(zmax, loc = mean, scale = sd) - norm.cdf(zmin, loc = mean, scale = sd)\n",
    "            nodes.append(xi)\n",
    "            weights.append(weight)\n",
    "        \n",
    "    return np.array(nodes), np.array(weights)"
   ]
  },
  {
   "cell_type": "code",
   "execution_count": 37,
   "metadata": {},
   "outputs": [
    {
     "name": "stdout",
     "output_type": "stream",
     "text": [
      "Node:0.5   Weight:0.0034669738030406686\n",
      "\n",
      "\n",
      "Node:1.4   Weight:0.014397446759775874\n",
      "\n",
      "\n",
      "Node:2.3   Weight:0.04894278070604153\n",
      "\n",
      "\n",
      "Node:3.2   Weight:0.1172529240779014\n",
      "\n",
      "\n",
      "Node:4.1   Weight:0.19802845246428785\n",
      "\n",
      "\n",
      "Node:5.0   Weight:0.23582284437790535\n",
      "\n",
      "\n",
      "Node:5.9   Weight:0.1980284524642878\n",
      "\n",
      "\n",
      "Node:6.8   Weight:0.11725292407790144\n",
      "\n",
      "\n",
      "Node:7.7   Weight:0.04894278070604152\n",
      "\n",
      "\n",
      "Node:8.6   Weight:0.014397446759775945\n",
      "\n",
      "\n",
      "Node:9.5   Weight:0.0034669738030406183\n",
      "\n",
      "\n"
     ]
    }
   ],
   "source": [
    "result = normal(5, 1.5, 11, 3)\n",
    "for i in range(11):\n",
    "    print(f'Node:{result[0][i]}   Weight:{result[1][i]}')\n",
    "    print('\\n')"
   ]
  },
  {
   "cell_type": "markdown",
   "metadata": {},
   "source": [
    "## ex2.3"
   ]
  },
  {
   "cell_type": "code",
   "execution_count": 38,
   "metadata": {},
   "outputs": [],
   "source": [
    "import math"
   ]
  },
  {
   "cell_type": "code",
   "execution_count": 42,
   "metadata": {},
   "outputs": [],
   "source": [
    "def lognormal(mean, sd, N, k):\n",
    "    nodes, weights = normal(mean, sd, N, k)\n",
    "    nodes_log = []\n",
    "    approximation = 0\n",
    "    for i in range(N):\n",
    "        node = math.exp(nodes[i])\n",
    "        nodes_log.append(node)\n",
    "        approximation += node * weights[i]\n",
    "    return approximation, nodes_log, weights"
   ]
  },
  {
   "cell_type": "code",
   "execution_count": 47,
   "metadata": {},
   "outputs": [],
   "source": [
    "result, nodes, weights = lognormal(5, 1.5, 11, 3)"
   ]
  },
  {
   "cell_type": "code",
   "execution_count": 48,
   "metadata": {},
   "outputs": [
    {
     "name": "stdout",
     "output_type": "stream",
     "text": [
      "The approximation result is 460.5426522031047\n"
     ]
    }
   ],
   "source": [
    "print(f'The approximation result is {result}')"
   ]
  },
  {
   "cell_type": "code",
   "execution_count": 49,
   "metadata": {},
   "outputs": [
    {
     "name": "stdout",
     "output_type": "stream",
     "text": [
      "Node:1.6487212707001282   Weight:0.0034669738030406686\n",
      "Node:4.0551999668446745   Weight:0.014397446759775874\n",
      "Node:9.974182454814718   Weight:0.04894278070604153\n",
      "Node:24.532530197109352   Weight:0.1172529240779014\n",
      "Node:60.34028759736195   Weight:0.19802845246428785\n",
      "Node:148.4131591025766   Weight:0.23582284437790535\n",
      "Node:365.0374678653289   Weight:0.1980284524642878\n",
      "Node:897.8472916504176   Weight:0.11725292407790144\n",
      "Node:2208.347991887209   Weight:0.04894278070604152\n",
      "Node:5431.659591362978   Weight:0.014397446759775945\n",
      "Node:13359.726829661873   Weight:0.0034669738030406183\n"
     ]
    }
   ],
   "source": [
    "for i in range(11):\n",
    "    print(f'Node:{nodes[i]}   Weight:{weights[i]}')"
   ]
  },
  {
   "cell_type": "markdown",
   "metadata": {},
   "source": [
    "## ex2.4"
   ]
  },
  {
   "cell_type": "code",
   "execution_count": 52,
   "metadata": {},
   "outputs": [],
   "source": [
    "result, nodes, weights = lognormal(10.5, 0.8, 11, 3)\n",
    "exact_value = math.exp(10.5 + 0.8**2/2)"
   ]
  },
  {
   "cell_type": "code",
   "execution_count": 53,
   "metadata": {},
   "outputs": [
    {
     "name": "stdout",
     "output_type": "stream",
     "text": [
      "The discrete approximation of the expected value of income is 50352.456192765916\n"
     ]
    }
   ],
   "source": [
    "print(f'The discrete approximation of the expected value of income is {result}')"
   ]
  },
  {
   "cell_type": "code",
   "execution_count": 54,
   "metadata": {},
   "outputs": [
    {
     "name": "stdout",
     "output_type": "stream",
     "text": [
      "The exact expected value is 50011.087008521754\n"
     ]
    }
   ],
   "source": [
    "print(f'The exact expected value is {exact_value}')"
   ]
  },
  {
   "cell_type": "code",
   "execution_count": 55,
   "metadata": {},
   "outputs": [
    {
     "name": "stdout",
     "output_type": "stream",
     "text": [
      "The difference is 341.36918424416217\n"
     ]
    }
   ],
   "source": [
    "print(f'The difference is {result-exact_value}')"
   ]
  },
  {
   "cell_type": "markdown",
   "metadata": {},
   "source": [
    "The approximation result is 341.37 more than the exact expected value."
   ]
  },
  {
   "cell_type": "markdown",
   "metadata": {},
   "source": [
    "## ex3.1"
   ]
  },
  {
   "cell_type": "code",
   "execution_count": 56,
   "metadata": {},
   "outputs": [],
   "source": [
    "from scipy import optimize"
   ]
  },
  {
   "cell_type": "code",
   "execution_count": 85,
   "metadata": {},
   "outputs": [],
   "source": [
    "def equation(a, b, N):\n",
    "    def func(x):\n",
    "        f_list = []\n",
    "        for i in range(2*N):\n",
    "            right = 0\n",
    "            for n in range(N):\n",
    "                right += x[n]*x[n+N]**i\n",
    "            f = (b**(i+1) - a**(i+1))/(i+1) - right\n",
    "            f_list.append(f)\n",
    "        return f_list\n",
    "    return func"
   ]
  },
  {
   "cell_type": "code",
   "execution_count": 92,
   "metadata": {},
   "outputs": [],
   "source": [
    "def gaussian(a, b, N):\n",
    "    func = equation(a, b, N)\n",
    "    weights = [1/N for i in range(N)]\n",
    "    nodes = [0 for i in range(N)]\n",
    "    initial = weights + nodes\n",
    "    sol = optimize.root(func, initial)\n",
    "    return sol.x"
   ]
  },
  {
   "cell_type": "code",
   "execution_count": 93,
   "metadata": {},
   "outputs": [
    {
     "name": "stdout",
     "output_type": "stream",
     "text": [
      "The result of Gaussian approximation is 4373.333334806089.\n"
     ]
    }
   ],
   "source": [
    "g = lambda x: 0.1*x**4 - 1.5*x**3 + 0.53*x**2 + 2*x + 1\n",
    "solutions = gaussian(-10, 10, 3)\n",
    "approximation = 0\n",
    "for i in range(3):\n",
    "    approximation += solutions[i]*g(solutions[i+3])\n",
    "print(f'The result of Gaussian approximation is {approximation}.')"
   ]
  },
  {
   "cell_type": "code",
   "execution_count": 94,
   "metadata": {},
   "outputs": [
    {
     "name": "stdout",
     "output_type": "stream",
     "text": [
      "The difference between Gaussian result and midpoint method is 0.34216230609126796.\n"
     ]
    }
   ],
   "source": [
    "midpoint = func_1(g, -10, 10, N, 'midpoint')\n",
    "print(f'The difference between Gaussian result and midpoint method is {abs(midpoint-approximation)}.')"
   ]
  },
  {
   "cell_type": "code",
   "execution_count": 96,
   "metadata": {},
   "outputs": [
    {
     "name": "stdout",
     "output_type": "stream",
     "text": [
      "The difference between Gaussian result and  trapezoid method is 254.08432519391226.\n"
     ]
    }
   ],
   "source": [
    "trapezoid = func_1(g, -10, 10, N, 'trapezoid')\n",
    "print(f'The difference between Gaussian result and  trapezoid method is {abs(trapezoid-approximation)}.')"
   ]
  },
  {
   "cell_type": "code",
   "execution_count": 100,
   "metadata": {},
   "outputs": [
    {
     "name": "stdout",
     "output_type": "stream",
     "text": [
      "The difference between Gaussian result and  Simpson method is 84.46666686057688.\n"
     ]
    }
   ],
   "source": [
    "Simpson = func_1(g, -10, 10, N, 'Simpsons')\n",
    "print(f'The difference between Gaussian result and  Simpson method is {abs(Simpson-approximation)}.')"
   ]
  },
  {
   "cell_type": "code",
   "execution_count": 101,
   "metadata": {},
   "outputs": [
    {
     "name": "stdout",
     "output_type": "stream",
     "text": [
      "The difference between true known analytical value and the Gaussian result is 0.0033348060887874453.\n"
     ]
    }
   ],
   "source": [
    "print(f'The difference between true known analytical value and the Gaussian result is {abs(4373.33-approximation)}.')"
   ]
  },
  {
   "cell_type": "markdown",
   "metadata": {},
   "source": [
    "## ex3.2"
   ]
  },
  {
   "cell_type": "code",
   "execution_count": 103,
   "metadata": {},
   "outputs": [],
   "source": [
    "import scipy"
   ]
  },
  {
   "cell_type": "code",
   "execution_count": 106,
   "metadata": {},
   "outputs": [],
   "source": [
    "scipy_approx, error = scipy.integrate.quad(g, -10, 10)"
   ]
  },
  {
   "cell_type": "code",
   "execution_count": 107,
   "metadata": {},
   "outputs": [
    {
     "name": "stdout",
     "output_type": "stream",
     "text": [
      "The absolute error is 0.0033333333340124227\n"
     ]
    }
   ],
   "source": [
    "print(f'The absolute error is {abs(scipy_approx-4373.33)}')"
   ]
  },
  {
   "cell_type": "markdown",
   "metadata": {},
   "source": [
    "## ex4.1"
   ]
  },
  {
   "cell_type": "code",
   "execution_count": 109,
   "metadata": {},
   "outputs": [],
   "source": [
    "import scipy.stats as sts\n",
    "import numpy as np"
   ]
  },
  {
   "cell_type": "code",
   "execution_count": 113,
   "metadata": {},
   "outputs": [],
   "source": [
    "def monte_carlo(g, omega, N):\n",
    "    x = np.random.uniform(omega[0], omega[1], size = N)\n",
    "    y = np.random.uniform(omega[2], omega[3], size = N)\n",
    "    mc_sum = 0\n",
    "    for i in range(N):\n",
    "        mc_sum += g(x[i], y[i])\n",
    "    v = (omega[1] - omega[0]) * (omega[3] - omega[2])\n",
    "    return v/N*mc_sum"
   ]
  },
  {
   "cell_type": "code",
   "execution_count": 155,
   "metadata": {},
   "outputs": [],
   "source": [
    "def pi(x, y):\n",
    "    return x**2 + y**2 <= 1"
   ]
  },
  {
   "cell_type": "code",
   "execution_count": 118,
   "metadata": {},
   "outputs": [
    {
     "name": "stdout",
     "output_type": "stream",
     "text": [
      "The smallest number is 615.\n"
     ]
    }
   ],
   "source": [
    "np.random.seed(25)\n",
    "n = 1\n",
    "while True:\n",
    "    approximation = monte_carlo(pi, [-1,1,-1,1], n)\n",
    "    if abs(approximation - 3.1415)<1e-4:\n",
    "        break\n",
    "    n += 1\n",
    "print(f'The smallest number is {n}.')"
   ]
  },
  {
   "cell_type": "markdown",
   "metadata": {},
   "source": [
    "## ex4.2"
   ]
  },
  {
   "cell_type": "code",
   "execution_count": 119,
   "metadata": {},
   "outputs": [],
   "source": [
    "import numpy as np\n",
    "\n",
    "def isPrime(n):\n",
    "    '''\n",
    "    --------------------------------------------------------------------\n",
    "    This function returns a boolean indicating whether an integer n is a\n",
    "    prime number\n",
    "    --------------------------------------------------------------------\n",
    "    INPUTS:\n",
    "    n = scalar, any scalar value\n",
    "\n",
    "    OTHER FUNCTIONS AND FILES CALLED BY THIS FUNCTION: None\n",
    "\n",
    "    OBJECTS CREATED WITHIN FUNCTION:\n",
    "    i = integer in [2, sqrt(n)]\n",
    "\n",
    "    FILES CREATED BY THIS FUNCTION: None\n",
    "\n",
    "    RETURN: boolean\n",
    "    --------------------------------------------------------------------\n",
    "    '''\n",
    "    for i in range(2, int(np.sqrt(n) + 1)):\n",
    "        if n % i == 0:\n",
    "            return False\n",
    "\n",
    "    return True"
   ]
  },
  {
   "cell_type": "code",
   "execution_count": 120,
   "metadata": {},
   "outputs": [],
   "source": [
    "def primes_ascend(N, min_val=2):\n",
    "    '''\n",
    "    --------------------------------------------------------------------\n",
    "    This function generates an ordered sequence of N consecutive prime\n",
    "    numbers, the smallest of which is greater than or equal to 1 using\n",
    "    the Sieve of Eratosthenes algorithm.\n",
    "    (https://en.wikipedia.org/wiki/Sieve_of_Eratosthenes)\n",
    "    --------------------------------------------------------------------\n",
    "    INPUTS:\n",
    "    N       = integer, number of elements in sequence of consecutive\n",
    "              prime numbers\n",
    "    min_val = scalar >= 2, the smallest prime number in the consecutive\n",
    "              sequence must be greater-than-or-equal-to this value\n",
    "\n",
    "    OTHER FUNCTIONS AND FILES CALLED BY THIS FUNCTION:\n",
    "        isPrime()\n",
    "\n",
    "    OBJECTS CREATED WITHIN FUNCTION:\n",
    "    primes_vec     = (N,) vector, consecutive prime numbers greater than\n",
    "                     min_val\n",
    "    MinIsEven      = boolean, =True if min_val is even, =False otherwise\n",
    "    MinIsGrtrThn2  = boolean, =True if min_val is\n",
    "                     greater-than-or-equal-to 2, =False otherwise\n",
    "    curr_prime_ind = integer >= 0, running count of prime numbers found\n",
    "\n",
    "    FILES CREATED BY THIS FUNCTION: None\n",
    "\n",
    "    RETURN: primes_vec\n",
    "    --------------------------------------------------------------------\n",
    "    '''\n",
    "    primes_vec = np.zeros(N, dtype=int)\n",
    "    MinIsEven = 1 - min_val % 2\n",
    "    MinIsGrtrThn2 = min_val > 2\n",
    "    curr_prime_ind = 0\n",
    "    if not MinIsGrtrThn2:\n",
    "        i = 2\n",
    "        curr_prime_ind += 1\n",
    "        primes_vec[0] = i\n",
    "    i = min(3, min_val + (MinIsEven * 1))\n",
    "    while curr_prime_ind < N:\n",
    "        if isPrime(i):\n",
    "            curr_prime_ind += 1\n",
    "            primes_vec[curr_prime_ind - 1] = i\n",
    "        i += 2\n",
    "\n",
    "    return primes_vec"
   ]
  },
  {
   "cell_type": "code",
   "execution_count": 159,
   "metadata": {},
   "outputs": [],
   "source": [
    "def equidistributed(n, d, name):\n",
    "    prime_seq = primes_ascend(d, min_val=2)\n",
    "    result = np.zeros(d)\n",
    "    if name == \"Weyl\":\n",
    "        result = n*prime_seq**0.5\n",
    "\n",
    "    if name == \"Haber\":\n",
    "        result = n*(n+1)/2*prime_seq**0.5\n",
    "\n",
    "    if name == \"Niederreiter\":\n",
    "        s_array = np.linspace(1, d, d)\n",
    "        result = n*2**(s_array/(d+1))\n",
    "    \n",
    "    if name == \"Baker\":\n",
    "        s_array = np.linspace(1, d, d)\n",
    "        r_array = np.exp(1/s_array)\n",
    "        result = n*r_array\n",
    "    \n",
    "    result = result - np.floor(result)\n",
    "    return result "
   ]
  },
  {
   "cell_type": "code",
   "execution_count": 134,
   "metadata": {},
   "outputs": [
    {
     "data": {
      "text/plain": [
       "array([0.14213562, 0.32050808, 0.36067977, 0.45751311])"
      ]
     },
     "execution_count": 134,
     "metadata": {},
     "output_type": "execute_result"
    }
   ],
   "source": [
    "equidistributed(10, 4, 'Weyl')"
   ]
  },
  {
   "cell_type": "code",
   "execution_count": 135,
   "metadata": {},
   "outputs": [
    {
     "data": {
      "text/plain": [
       "array([0.78174593, 0.26279442, 0.98373876, 0.51632211])"
      ]
     },
     "execution_count": 135,
     "metadata": {},
     "output_type": "execute_result"
    }
   ],
   "source": [
    "equidistributed(10, 4, 'Haber')"
   ]
  },
  {
   "cell_type": "code",
   "execution_count": 138,
   "metadata": {},
   "outputs": [
    {
     "data": {
      "text/plain": [
       "array([0.48698355, 0.19507911, 0.15716567, 0.41101127])"
      ]
     },
     "execution_count": 138,
     "metadata": {},
     "output_type": "execute_result"
    }
   ],
   "source": [
    "equidistributed(10, 4, 'Niederreiter')"
   ]
  },
  {
   "cell_type": "code",
   "execution_count": 160,
   "metadata": {},
   "outputs": [
    {
     "data": {
      "text/plain": [
       "array([0.18281828, 0.48721271, 0.95612425, 0.84025417])"
      ]
     },
     "execution_count": 160,
     "metadata": {},
     "output_type": "execute_result"
    }
   ],
   "source": [
    "equidistributed(10, 4, 'Baker')"
   ]
  },
  {
   "cell_type": "markdown",
   "metadata": {},
   "source": [
    "## ex 4.3"
   ]
  },
  {
   "cell_type": "code",
   "execution_count": 154,
   "metadata": {},
   "outputs": [],
   "source": [
    "def quasi_monte_carlo(g, omega, N, name):\n",
    "    mc_sum = 0\n",
    "    for i in range(N):\n",
    "        x = (equidistributed(i, 2, name)*(omega[1]-omega[0]) + omega[0])[0]\n",
    "        y = (equidistributed(i, 2, name)*(omega[3]-omega[2]) + omega[2])[1]\n",
    "        mc_sum += g(x, y)\n",
    "    v = (omega[1] - omega[0]) * (omega[3] - omega[2])\n",
    "    return v/N*mc_sum"
   ]
  },
  {
   "cell_type": "code",
   "execution_count": 161,
   "metadata": {},
   "outputs": [
    {
     "name": "stdout",
     "output_type": "stream",
     "text": [
      "The smallest number for Weyl sequence to gain pi approximation is 1230.\n",
      "The smallest number for Haber sequence to gain pi approximation is 2064.\n",
      "The smallest number for Niederreiter sequence to gain pi approximation is 1845.\n",
      "The smallest number for Baker sequence to gain pi approximation is 205.\n"
     ]
    }
   ],
   "source": [
    "for name in ['Weyl', 'Haber', 'Niederreiter', 'Baker']:\n",
    "    np.random.seed(25)\n",
    "    n = 1\n",
    "    while True:\n",
    "        result = quasi_monte_carlo(pi, [-1,1,-1,1], n, name)\n",
    "        if round(result, 4) == 3.1415:\n",
    "            break\n",
    "        if n>3000:\n",
    "            break\n",
    "        n += 1\n",
    "    if n<=3000:\n",
    "        print(f'The smallest number for {name} sequence to gain pi approximation is {n}.')\n",
    "    else:\n",
    "        print(f'The iteration circle for {name} sequence is more than 3000.')"
   ]
  }
 ],
 "metadata": {
  "kernelspec": {
   "display_name": "Python 3",
   "language": "python",
   "name": "python3"
  },
  "language_info": {
   "codemirror_mode": {
    "name": "ipython",
    "version": 3
   },
   "file_extension": ".py",
   "mimetype": "text/x-python",
   "name": "python",
   "nbconvert_exporter": "python",
   "pygments_lexer": "ipython3",
   "version": "3.7.1"
  }
 },
 "nbformat": 4,
 "nbformat_minor": 2
}
