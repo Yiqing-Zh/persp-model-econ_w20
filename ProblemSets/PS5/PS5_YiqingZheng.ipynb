{
 "cells": [
  {
   "cell_type": "markdown",
   "metadata": {},
   "source": [
    "# Problem Set #5"
   ]
  },
  {
   "cell_type": "markdown",
   "metadata": {},
   "source": [
    "## MACS 30150, Dr. Evans"
   ]
  },
  {
   "cell_type": "markdown",
   "metadata": {},
   "source": [
    "## Yiqing Zheng"
   ]
  },
  {
   "cell_type": "markdown",
   "metadata": {},
   "source": [
    "## Problem 1"
   ]
  },
  {
   "cell_type": "markdown",
   "metadata": {},
   "source": [
    "part (a)"
   ]
  },
  {
   "cell_type": "code",
   "execution_count": 28,
   "metadata": {},
   "outputs": [],
   "source": [
    "import numpy as np\n",
    "import matplotlib.pyplot as plt\n",
    "import warnings\n",
    "warnings.filterwarnings(\"ignore\")"
   ]
  },
  {
   "cell_type": "code",
   "execution_count": 3,
   "metadata": {},
   "outputs": [],
   "source": [
    "data = np.loadtxt('data\\incomes.txt')"
   ]
  },
  {
   "cell_type": "code",
   "execution_count": 37,
   "metadata": {},
   "outputs": [
    {
     "data": {
      "image/png": "[encoded data removed]",
      "text/plain": [
       "<Figure size 432x288 with 1 Axes>"
      ]
     },
     "metadata": {
      "needs_background": "light"
     },
     "output_type": "display_data"
    }
   ],
   "source": [
    "num_bins = 30\n",
    "plt.hist(data, num_bins, density=True, edgecolor='k')\n",
    "plt.title('MACSS graduate income: 2018-2020')\n",
    "plt.xlabel(r'Annual income')\n",
    "plt.ylabel('Percent of income')\n",
    "plt.xlim([0, 150000]);"
   ]
  },
  {
   "cell_type": "markdown",
   "metadata": {},
   "source": [
    "part (b)"
   ]
  },
  {
   "cell_type": "code",
   "execution_count": 53,
   "metadata": {},
   "outputs": [],
   "source": [
    "from math import sqrt\n",
    "import scipy.integrate as intgr\n",
    "import scipy.optimize as opt\n",
    "import scipy.stats as sts\n",
    "import numpy.linalg as lin"
   ]
  },
  {
   "cell_type": "code",
   "execution_count": 19,
   "metadata": {},
   "outputs": [],
   "source": [
    "def log_norm_pdf(x, mu, sigma):\n",
    "    return (x * sigma * (2 * np.pi)**0.5)**(-1) * np.exp(-(np.log(x) - mu)**2/(2 * sigma**2))\n",
    "\n",
    "def trunc_log_norm(x, mu, sigma, cut_lb, cut_ub):\n",
    "    \n",
    "    if cut_ub == \"None\" and cut_lb == \"None\":\n",
    "        prob_notcut = 1.0\n",
    "    \n",
    "    elif cut_ub == 'None' and cut_lb != 'None':\n",
    "        prob_notcut = 1.0 - sts.lognorm.cdf(cut_lb, s=sigma, scale=np.exp(mu))\n",
    "    \n",
    "    elif cut_ub != 'None' and cut_lb == 'None':\n",
    "        prob_notcut = sts.lognorm.cdf(cut_ub, s=sigma, scale=np.exp(mu))\n",
    "    \n",
    "    elif cut_ub != 'None' and cut_lb != 'None':\n",
    "        prob_notcut = sts.lognorm.cdf(cut_ub, s=sigma, scale=np.exp(mu)) - sts.lognorm.cdf(cut_lb, s=sigma, scale=np.exp(mu))\n",
    "    \n",
    "    pdf_vals = log_norm_pdf(x, mu, sigma)/prob_notcut\n",
    "    return pdf_vals"
   ]
  },
  {
   "cell_type": "code",
   "execution_count": 91,
   "metadata": {},
   "outputs": [],
   "source": [
    "def data_moments(x):\n",
    "    return (x.mean(), data.std())\n",
    "\n",
    "def model_moments(mu, sigma, cut_lb, cut_ub):\n",
    "    xfx = lambda x: x * trunc_log_norm(x, mu, sigma, cut_lb, cut_ub)\n",
    "    (mean_model, m_m_err) = intgr.quad(xfx, cut_lb, cut_ub)\n",
    "    x2fx = lambda x: ((x - mean_model) ** 2) * trunc_log_norm(x, mu, sigma, cut_lb, cut_ub) \n",
    "    (var_model, v_m_err) = intgr.quad(x2fx, cut_lb, cut_ub)\n",
    "    \n",
    "    return mean_model, np.sqrt(var_model)\n",
    "\n",
    "\n",
    "def err_vec(xvals, mu, sigma, cut_lb, cut_ub, simple):\n",
    "    mean_data, std_data = data_moments(xvals)\n",
    "    moms_data = np.array([[mean_data], [std_data]])\n",
    "    mean_model, std_model = model_moments(mu, sigma, cut_lb, cut_ub)\n",
    "    moms_model = np.array([[mean_model], [std_model]])\n",
    "    if simple:\n",
    "        err_vec = moms_model - moms_data\n",
    "    else:\n",
    "        err_vec = (moms_model - moms_data) / moms_data\n",
    "    \n",
    "    return err_vec\n",
    "\n",
    "def criterion(params, *args):\n",
    "    mu, sigma = params\n",
    "    xvals, cut_lb, cut_ub, W = args\n",
    "    err = err_vec(xvals, mu, sigma, cut_lb, cut_ub, simple=False)\n",
    "    crit_val = err.T @ W @ err\n",
    "    \n",
    "    return crit_val"
   ]
  },
  {
   "cell_type": "code",
   "execution_count": 39,
   "metadata": {},
   "outputs": [],
   "source": [
    "mu_init = 11\n",
    "sigma_init = 0.5\n",
    "params_init = np.array([mu_init, sigma_init])\n",
    "W_hat = np.eye(2)\n",
    "gmm_args = (data, 0.0, 150000.0, W_hat)\n",
    "results = opt.minimize(criterion, params_init, args=(gmm_args),\n",
    "                       tol=1e-14, method='L-BFGS-B',\n",
    "                       bounds=((None, None), (1e-10, None)))"
   ]
  },
  {
   "cell_type": "code",
   "execution_count": 63,
   "metadata": {},
   "outputs": [
    {
     "name": "stdout",
     "output_type": "stream",
     "text": [
      "The value of the GMM criterion function: [[6.39927099e-16]]\n",
      "\n",
      "GMM estimated mu: 11.33359961340108, GMM estimated simga: 0.21325529509280874.\n",
      "\n",
      "Mean of data: 85276.82360625811, SD of data: 17992.542128046523.\n",
      "Mean of model: 85276.82405854983, SD of model: 17992.541683009535.\n",
      "\n",
      "The difference between data and model moments are [[ 0.00045229]\n",
      " [-0.00044504]].\n"
     ]
    }
   ],
   "source": [
    "mu_GMM1, sigma_GMM1 = results.x\n",
    "func_value1 = results.fun\n",
    "mean_model1, std_model1 = model_moments(mu_GMM1, sigma_GMM1, 0.0, 150000.0)\n",
    "mean_data1, std_data1 = data_moments(data)\n",
    "err1 = err_vec(data, mu_GMM1, sigma_GMM1, 0.0, 150000, simple=True)\n",
    "print(f'The value of the GMM criterion function: {func_value1}\\n')\n",
    "print(f'GMM estimated mu: {mu_GMM1}, GMM estimated simga: {sigma_GMM1}.\\n')\n",
    "print(f'Mean of data: {mean_data1}, SD of data: {std_data1}.')\n",
    "print(f'Mean of model: {mean_model1}, SD of model: {std_model1}.\\n')\n",
    "print(f'The difference between data and model moments are {err1}.')"
   ]
  },
  {
   "cell_type": "code",
   "execution_count": 34,
   "metadata": {},
   "outputs": [
    {
     "data": {
      "image/png": "[encoded data removed]",
      "text/plain": [
       "<Figure size 432x288 with 1 Axes>"
      ]
     },
     "metadata": {
      "needs_background": "light"
     },
     "output_type": "display_data"
    }
   ],
   "source": [
    "plt.hist(data, num_bins, density=True, edgecolor='k')\n",
    "plt.title('MACSS graduate income: 2018-2020')\n",
    "plt.xlabel(r'Annual income')\n",
    "plt.ylabel('Percent of income')\n",
    "\n",
    "sample = np.linspace(0, 150000, 200000)\n",
    "plt.plot(sample, trunc_log_norm(sample, mu_GMM1, sigma_GMM1, 0.0, 150000.0),linewidth=2,\n",
    "         color='r', label='$\\mu_{GMM1}$, $\\sigma_{GMM1}$')\n",
    "plt.legend(loc='upper left')\n",
    "plt.xlim([0, 150000]);"
   ]
  },
  {
   "cell_type": "markdown",
   "metadata": {},
   "source": [
    "part (c)"
   ]
  },
  {
   "cell_type": "code",
   "execution_count": 59,
   "metadata": {},
   "outputs": [],
   "source": [
    "def get_Err_mat2(pts, mu, sigma, cut_lb, cut_ub, simple=False):\n",
    "    R = 2\n",
    "    N = len(pts)\n",
    "    Err_mat = np.zeros((R, N))\n",
    "    mean_model, std_model = model_moments(mu, sigma, cut_lb, cut_ub)\n",
    "    if simple:\n",
    "        Err_mat[0, :] = pts - mean_model\n",
    "        Err_mat[1, :] = (np.sqrt(pts - mean_data1)**2) - std_model    \n",
    "    else:\n",
    "        Err_mat[0, :] = (pts - mean_model)/mean_model\n",
    "        Err_mat[1, :] = (np.sqrt((pts - mean_data1)**2) - std_model)/std_model\n",
    "    return Err_mat"
   ]
  },
  {
   "cell_type": "code",
   "execution_count": 60,
   "metadata": {},
   "outputs": [
    {
     "name": "stdout",
     "output_type": "stream",
     "text": [
      "[[0.04451671 0.02724079]\n",
      " [0.02724079 0.40593057]]\n",
      "[[23.42542598 -1.57201036]\n",
      " [-1.57201036  2.56896839]]\n"
     ]
    }
   ],
   "source": [
    "Err_mat = get_Err_mat2(data, mu_GMM1, sigma_GMM1, 0, 150000, simple=False)\n",
    "VCV2 = (1 / data.shape[0]) * (Err_mat @ Err_mat.T)\n",
    "print(VCV2)\n",
    "W_hat2 = lin.inv(VCV2)\n",
    "print(W_hat2)"
   ]
  },
  {
   "cell_type": "code",
   "execution_count": 93,
   "metadata": {},
   "outputs": [
    {
     "data": {
      "text/plain": [
       "      fun: array([[2.6431071e-15]])\n",
       " hess_inv: <2x2 LbfgsInvHessProduct with dtype=float64>\n",
       "      jac: array([ 4.19717314e-07, -1.25892754e-07])\n",
       "  message: b'CONVERGENCE: NORM_OF_PROJECTED_GRADIENT_<=_PGTOL'\n",
       "     nfev: 3\n",
       "      nit: 0\n",
       "   status: 0\n",
       "  success: True\n",
       "        x: array([11.33359961,  0.2132553 ])"
      ]
     },
     "execution_count": 93,
     "metadata": {},
     "output_type": "execute_result"
    }
   ],
   "source": [
    "params_init2 = np.array([mu_GMM1, sigma_GMM1])\n",
    "gmm_args2 = (data, 0.0, 150000, W_hat2)\n",
    "results2 = opt.minimize(criterion, params_init2, args=(gmm_args2),\n",
    "                        method='L-BFGS-B', bounds=((None, None), (1e-10, None)))\n",
    "results2"
   ]
  },
  {
   "cell_type": "code",
   "execution_count": 92,
   "metadata": {},
   "outputs": [
    {
     "name": "stdout",
     "output_type": "stream",
     "text": [
      "The value of the GMM criterion function: [[2.6431071e-15]]\n",
      "\n",
      "GMM estimated mu: 11.33359961340108, GMM estimated simga: 0.21325529509280874.\n",
      "\n",
      "Mean of data: 85276.82360625811, SD of data: 17992.542128046523.\n",
      "Mean of model: 85276.82405854983, SD of model: 17992.541683009535.\n",
      "\n",
      "The difference between data and model moments are [[ 0.00045229]\n",
      " [-0.00044504]].\n"
     ]
    }
   ],
   "source": [
    "mu_GMM2, sigma_GMM2 = results2.x\n",
    "func_value2 = results2.fun\n",
    "mean_model2, std_model2 = model_moments(mu_GMM2, sigma_GMM2, 0.0, 150000.0)\n",
    "err2 = err_vec(data, mu_GMM2, sigma_GMM2, 0.0, 150000, simple=True)\n",
    "print(f'The value of the GMM criterion function: {func_value2}\\n')\n",
    "print(f'GMM estimated mu: {mu_GMM2}, GMM estimated simga: {sigma_GMM2}.\\n')\n",
    "print(f'Mean of data: {mean_data1}, SD of data: {std_data1}.')\n",
    "print(f'Mean of model: {mean_model2}, SD of model: {std_model2}.\\n')\n",
    "print(f'The difference between data and model moments are {err2}.')"
   ]
  },
  {
   "cell_type": "code",
   "execution_count": 67,
   "metadata": {},
   "outputs": [
    {
     "data": {
      "image/png": "[encoded data removed]",
      "text/plain": [
       "<Figure size 432x288 with 1 Axes>"
      ]
     },
     "metadata": {
      "needs_background": "light"
     },
     "output_type": "display_data"
    }
   ],
   "source": [
    "plt.hist(data, num_bins, density=True, edgecolor='k')\n",
    "plt.title('MACSS graduate income: 2018-2020')\n",
    "plt.xlabel(r'Annual income')\n",
    "plt.ylabel('Percent of income')\n",
    "\n",
    "sample = np.linspace(0, 150000, 200000)\n",
    "plt.plot(sample, trunc_log_norm(sample, mu_GMM1, sigma_GMM1, 0.0, 150000.0),linewidth=2,\n",
    "         color='r', label='$\\mu_{GMM1}$, $\\sigma_{GMM1}$')\n",
    "plt.plot(sample, trunc_log_norm(sample, mu_GMM2, sigma_GMM2, 0.0, 150000.0),linewidth=2,\n",
    "         color='g', label='$\\mu_{GMM2}$, $\\sigma_{GMM2}$')\n",
    "plt.legend(loc='upper left')\n",
    "plt.xlim([0, 150000]);"
   ]
  },
  {
   "cell_type": "markdown",
   "metadata": {},
   "source": [
    "part (d)"
   ]
  },
  {
   "cell_type": "code",
   "execution_count": 84,
   "metadata": {},
   "outputs": [],
   "source": [
    "def data_moments3(x):\n",
    "    bpct_1_dat = x[x<75000].shape[0] / x.shape[0]\n",
    "    bpct_2_dat = x[(75000<=x) & (x<=100000)].shape[0] / x.shape[0]\n",
    "    bpct_3_dat = x[x>100000].shape[0] / x.shape[0]\n",
    "    return bpct_1_dat, bpct_2_dat, bpct_3_dat"
   ]
  },
  {
   "cell_type": "code",
   "execution_count": 88,
   "metadata": {},
   "outputs": [],
   "source": [
    "def model_moments3(mu, sigma, cut_lb, cut_ub):\n",
    "    fx = lambda x: trunc_log_norm(x, mu, sigma, cut_lb, cut_ub)\n",
    "    (bpct_1_mod, bp_1_err) = intgr.quad(fx, cut_lb, 75000)\n",
    "    (bpct_2_mod, bp_2_err) = intgr.quad(fx, 75000, 100000)\n",
    "    (bpct_3_mod, bp_3_err) = intgr.quad(fx, 100000, cut_ub)\n",
    "    \n",
    "    return bpct_1_mod, bpct_2_mod, bpct_3_mod"
   ]
  },
  {
   "cell_type": "code",
   "execution_count": 77,
   "metadata": {},
   "outputs": [],
   "source": [
    "def err_vec3(xvals, mu, sigma, cut_lb, cut_ub, simple):\n",
    "    bpct_1_dat, bpct_2_dat, bpct_3_dat = \\\n",
    "        data_moments3(xvals)\n",
    "    moms_data = np.array([[bpct_1_dat], [bpct_2_dat], [bpct_3_dat]])\n",
    "    bpct_1_mod, bpct_2_mod, bpct_3_mod = \\\n",
    "        model_moments3(mu, sigma, cut_lb, cut_ub)\n",
    "    moms_model = np.array([[bpct_1_mod], [bpct_2_mod], [bpct_3_mod]])\n",
    "    if simple:\n",
    "        err_vec = moms_model - moms_data\n",
    "    else:\n",
    "        err_vec = (moms_model - moms_data) / moms_data\n",
    "    \n",
    "    return err_vec"
   ]
  },
  {
   "cell_type": "code",
   "execution_count": 78,
   "metadata": {},
   "outputs": [],
   "source": [
    "def criterion3(params, *args):\n",
    "    mu, sigma = params\n",
    "    xvals, cut_lb, cut_ub, W = args\n",
    "    err = err_vec3(xvals, mu, sigma, cut_lb, cut_ub, simple=False)\n",
    "    crit_val = err.T @ W @ err \n",
    "    \n",
    "    return crit_val"
   ]
  },
  {
   "cell_type": "code",
   "execution_count": 89,
   "metadata": {},
   "outputs": [
    {
     "data": {
      "text/plain": [
       "      fun: array([[4.29574704e-13]])\n",
       " hess_inv: <2x2 LbfgsInvHessProduct with dtype=float64>\n",
       "      jac: array([-8.32675490e-06,  3.97831385e-06])\n",
       "  message: b'CONVERGENCE: NORM_OF_PROJECTED_GRADIENT_<=_PGTOL'\n",
       "     nfev: 102\n",
       "      nit: 20\n",
       "   status: 0\n",
       "  success: True\n",
       "        x: array([11.33670511,  0.21151358])"
      ]
     },
     "execution_count": 89,
     "metadata": {},
     "output_type": "execute_result"
    }
   ],
   "source": [
    "mu_init = 11\n",
    "sigma_init = 0.5\n",
    "params_init1_3 = np.array([mu_init, sigma_init])\n",
    "W_hat1_3 = np.eye(3)\n",
    "gmm_args1_3 = (data, 0.0, 150000, W_hat1_3)\n",
    "results1_3 = opt.minimize(criterion3, params_init1_3, args=(gmm_args1_3),\n",
    "                         method='L-BFGS-B', bounds=((None, None), (1e-10, None)))\n",
    "results1_3"
   ]
  },
  {
   "cell_type": "code",
   "execution_count": 96,
   "metadata": {},
   "outputs": [
    {
     "name": "stdout",
     "output_type": "stream",
     "text": [
      "The value of the GMM criterion function: [[4.29574704e-13]]\n",
      "\n",
      "GMM estimated mu: 11.336705110701544, GMM estimated simga: 0.2115135758351846\n",
      "\n",
      "Percent(<75000) in data: 0.3, Percent(75000-100000) in data: 0.5, Percent(>100000) in data: 0.2\n",
      "Percent(<75000) in model: 0.3000001704406224, Percent(75000-100000) in model: 0.4999998681822837, Percent(>100000) in model: 0.19999996137709433\n",
      "\n",
      "The difference between data and model moments are [[ 1.70440622e-07]\n",
      " [-1.31817716e-07]\n",
      " [-3.86229057e-08]].\n"
     ]
    }
   ],
   "source": [
    "mu_GMM1_3, sigma_GMM1_3 = results1_3.x\n",
    "func_value1_3 = results1_3.fun\n",
    "bpct_1_model1_3, bpct_2_model1_3, bpct_3_model1_3 = model_moments3(mu_GMM1_3, sigma_GMM1_3, 0.0, 150000.0)\n",
    "bpct_1_dat1_3, bpct_2_dat1_3, bpct_3_dat1_3 = data_moments3(data)\n",
    "err1_3 = err_vec3(data, mu_GMM1_3, sigma_GMM1_3, 0.0, 150000, simple=True)\n",
    "print(f'The value of the GMM criterion function: {func_value1_3}\\n')\n",
    "print(f'GMM estimated mu: {mu_GMM1_3}, GMM estimated simga: {sigma_GMM1_3}\\n')\n",
    "print('Percent(<75000) in data: {}, Percent(75000-100000) in data: {}, Percent(>100000) in data: {}'\n",
    "      .format(bpct_1_dat1_3, bpct_2_dat1_3, bpct_3_dat1_3))\n",
    "print('Percent(<75000) in model: {}, Percent(75000-100000) in model: {}, Percent(>100000) in model: {}\\n'\n",
    "      .format(bpct_1_model1_3, bpct_2_model1_3, bpct_3_model1_3))\n",
    "print(f'The difference between data and model moments are {err1_3}.')"
   ]
  },
  {
   "cell_type": "markdown",
   "metadata": {},
   "source": [
    "part (e)"
   ]
  },
  {
   "cell_type": "code",
   "execution_count": null,
   "metadata": {},
   "outputs": [],
   "source": []
  },
  {
   "cell_type": "markdown",
   "metadata": {},
   "source": [
    "part (f)"
   ]
  },
  {
   "cell_type": "markdown",
   "metadata": {},
   "source": [
    "## Problem 2"
   ]
  },
  {
   "cell_type": "markdown",
   "metadata": {},
   "source": [
    "part (a)"
   ]
  },
  {
   "cell_type": "code",
   "execution_count": 97,
   "metadata": {},
   "outputs": [],
   "source": [
    "import pandas as pd"
   ]
  },
  {
   "cell_type": "code",
   "execution_count": 100,
   "metadata": {},
   "outputs": [
    {
     "data": {
      "text/html": [
       "<div>\n",
       "<style scoped>\n",
       "    .dataframe tbody tr th:only-of-type {\n",
       "        vertical-align: middle;\n",
       "    }\n",
       "\n",
       "    .dataframe tbody tr th {\n",
       "        vertical-align: top;\n",
       "    }\n",
       "\n",
       "    .dataframe thead th {\n",
       "        text-align: right;\n",
       "    }\n",
       "</style>\n",
       "<table border=\"1\" class=\"dataframe\">\n",
       "  <thead>\n",
       "    <tr style=\"text-align: right;\">\n",
       "      <th></th>\n",
       "      <th>sick</th>\n",
       "      <th>age</th>\n",
       "      <th>children</th>\n",
       "      <th>avgtemp_winter</th>\n",
       "    </tr>\n",
       "  </thead>\n",
       "  <tbody>\n",
       "    <tr>\n",
       "      <th>0</th>\n",
       "      <td>1.67</td>\n",
       "      <td>57.47</td>\n",
       "      <td>3.04</td>\n",
       "      <td>54.10</td>\n",
       "    </tr>\n",
       "    <tr>\n",
       "      <th>1</th>\n",
       "      <td>0.71</td>\n",
       "      <td>26.77</td>\n",
       "      <td>1.20</td>\n",
       "      <td>36.54</td>\n",
       "    </tr>\n",
       "    <tr>\n",
       "      <th>2</th>\n",
       "      <td>1.39</td>\n",
       "      <td>41.85</td>\n",
       "      <td>2.31</td>\n",
       "      <td>32.38</td>\n",
       "    </tr>\n",
       "    <tr>\n",
       "      <th>3</th>\n",
       "      <td>1.37</td>\n",
       "      <td>51.27</td>\n",
       "      <td>2.46</td>\n",
       "      <td>52.94</td>\n",
       "    </tr>\n",
       "    <tr>\n",
       "      <th>4</th>\n",
       "      <td>1.45</td>\n",
       "      <td>44.22</td>\n",
       "      <td>2.72</td>\n",
       "      <td>45.90</td>\n",
       "    </tr>\n",
       "  </tbody>\n",
       "</table>\n",
       "</div>"
      ],
      "text/plain": [
       "   sick    age  children  avgtemp_winter\n",
       "0  1.67  57.47      3.04           54.10\n",
       "1  0.71  26.77      1.20           36.54\n",
       "2  1.39  41.85      2.31           32.38\n",
       "3  1.37  51.27      2.46           52.94\n",
       "4  1.45  44.22      2.72           45.90"
      ]
     },
     "execution_count": 100,
     "metadata": {},
     "output_type": "execute_result"
    }
   ],
   "source": [
    "df = pd.read_csv('data\\sick.txt')\n",
    "df.head()"
   ]
  },
  {
   "cell_type": "code",
   "execution_count": 101,
   "metadata": {},
   "outputs": [],
   "source": [
    "def data_moments_lr(df):\n",
    "    return df['sick']\n",
    "\n",
    "def model_moments_lr(age, children, avgtemp_winter, beta_0, beta_1, beta_2, beta_3):\n",
    "    return beta_0 + beta_1 * age + beta_2 * children + beta_3 * avgtemp_winter\n",
    "\n",
    "def err_vec_lr(df, age, children, avgtemp_winter, beta_0, beta_1, beta_2, beta_3):\n",
    "    return data_moments_lr(df) - model_moments_lr(age, children, avgtemp_winter, beta_0, beta_1, beta_2, beta_3)\n",
    "\n",
    "def criterion_lr(params, *args):\n",
    "    beta_0, beta_1, beta_2, beta_3 = params\n",
    "    df, age, children, avgtemp_winter, W = args\n",
    "    err = err_vec_lr(df, age, children, avgtemp_winter, beta_0, beta_1, beta_2, beta_3)\n",
    "    return err.T @ W @ err"
   ]
  },
  {
   "cell_type": "code",
   "execution_count": 106,
   "metadata": {},
   "outputs": [
    {
     "data": {
      "text/plain": [
       "      fun: 0.0018212898060782808\n",
       " hess_inv: <4x4 LbfgsInvHessProduct with dtype=float64>\n",
       "      jac: array([ 1.63237479e-07, -1.97918938e-06, -5.83402684e-06, -5.58679839e-05])\n",
       "  message: b'CONVERGENCE: REL_REDUCTION_OF_F_<=_FACTR*EPSMCH'\n",
       "     nfev: 180\n",
       "      nit: 11\n",
       "   status: 0\n",
       "  success: True\n",
       "        x: array([ 0.25164486,  0.01293347,  0.40050098, -0.00999171])"
      ]
     },
     "execution_count": 106,
     "metadata": {},
     "output_type": "execute_result"
    }
   ],
   "source": [
    "age = df['age']\n",
    "children = df['children']\n",
    "avgtemp_winter = df['avgtemp_winter']\n",
    "beta_0, beta_1, beta_2, beta_3 = 1, 0, 0, 0\n",
    "params_init_lr = np.array([beta_0, beta_1, beta_2, beta_3])\n",
    "W_hat_lr = np.eye(df.shape[0])\n",
    "args_lr = (df, age, children, avgtemp_winter, W_hat_lr)\n",
    "results_lr = opt.minimize(criterion_lr, params_init_lr, args=(args_lr), tol=1e-14, method='L-BFGS-B')\n",
    "results_lr"
   ]
  },
  {
   "cell_type": "code",
   "execution_count": 107,
   "metadata": {},
   "outputs": [
    {
     "name": "stdout",
     "output_type": "stream",
     "text": [
      "Estimation for beta_0: 0.2516448636612042\n",
      "Estimation for beta_1: 0.012933470965564249\n",
      "Estimation for beta_2: 0.40050098470289774\n",
      "Estimation for beta_3: -0.009991709711286762\n",
      "The value of the GMM criterion function: 0.0018212898060782808\n"
     ]
    }
   ],
   "source": [
    "b0, b1, b2, b3 = results_lr.x\n",
    "func_value_lr = results_lr.fun\n",
    "print(f'Estimation for beta_0: {b0}')\n",
    "print(f'Estimation for beta_1: {b1}')\n",
    "print(f'Estimation for beta_2: {b2}')\n",
    "print(f'Estimation for beta_3: {b3}')\n",
    "print(f'The value of the GMM criterion function: {func_value_lr}')"
   ]
  }
 ],
 "metadata": {
  "kernelspec": {
   "display_name": "Python 3",
   "language": "python",
   "name": "python3"
  },
  "language_info": {
   "codemirror_mode": {
    "name": "ipython",
    "version": 3
   },
   "file_extension": ".py",
   "mimetype": "text/x-python",
   "name": "python",
   "nbconvert_exporter": "python",
   "pygments_lexer": "ipython3",
   "version": "3.7.1"
  }
 },
 "nbformat": 4,
 "nbformat_minor": 2
}
